{
 "cells": [
  {
   "cell_type": "code",
   "execution_count": 1,
   "id": "alike-scholar",
   "metadata": {},
   "outputs": [],
   "source": [
    "%load_ext lab_black"
   ]
  },
  {
   "cell_type": "code",
   "execution_count": 2,
   "id": "pregnant-ratio",
   "metadata": {},
   "outputs": [],
   "source": [
    "genres = [\"classic\", \"pop\", \"classic\", \"classic\", \"pop\"]\n",
    "plays = [500, 600, 150, 800, 2500]\n",
    "returns = [4, 1, 3, 0]"
   ]
  },
  {
   "cell_type": "code",
   "execution_count": 4,
   "id": "weird-valley",
   "metadata": {},
   "outputs": [],
   "source": [
    "N = len(genres)"
   ]
  },
  {
   "cell_type": "code",
   "execution_count": 35,
   "id": "interstate-compensation",
   "metadata": {},
   "outputs": [],
   "source": [
    "class Genre:\n",
    "    def __init__(self, genre):\n",
    "        self.genre = genre\n",
    "        self.score = 0\n",
    "        self.max1 = (-1, 0)\n",
    "        self.max2 = (-1, 0)\n",
    "\n",
    "    def __call__(self, i, v):\n",
    "        self.score += v\n",
    "\n",
    "        a = self.max1[1] < v\n",
    "        b = self.max2[1] < v\n",
    "\n",
    "        if a and b:\n",
    "            self.max2 = self.max1\n",
    "            self.max1 = (i, v)\n",
    "        elif a and not b:\n",
    "            raise NotImplementedError()\n",
    "        elif not a and b:\n",
    "            self.max2 = (i, v)\n",
    "        elif not a and not b:\n",
    "            pass\n",
    "\n",
    "    def __str__(self):\n",
    "        return f\"{self.score}: {self.max1}, {self.max2}\"\n",
    "\n",
    "    def __repr__(self):\n",
    "        return str(self)"
   ]
  },
  {
   "cell_type": "code",
   "execution_count": 37,
   "id": "fatal-cartoon",
   "metadata": {},
   "outputs": [],
   "source": [
    "pgens = {}\n",
    "for i in range(N):\n",
    "    genre = genres[i]\n",
    "    play = plays[i]\n",
    "\n",
    "    if genre not in pgens:\n",
    "        pgens[genre] = Genre(genre)\n",
    "    pgens[genre](i, play)"
   ]
  },
  {
   "cell_type": "code",
   "execution_count": 38,
   "id": "statewide-hepatitis",
   "metadata": {},
   "outputs": [
    {
     "data": {
      "text/plain": [
       "['pop', 'classic']"
      ]
     },
     "execution_count": 38,
     "metadata": {},
     "output_type": "execute_result"
    }
   ],
   "source": [
    "genre_order = sorted(pgens, key=lambda genre: pgens[genre].score, reverse=True)\n",
    "genre_order"
   ]
  },
  {
   "cell_type": "code",
   "execution_count": 39,
   "id": "premium-violin",
   "metadata": {},
   "outputs": [],
   "source": [
    "answer = []\n",
    "for genre in genre_order:\n",
    "    pgen = pgens[genre]\n",
    "    answer.append(pgen.max1[0])\n",
    "    if pgen.max2[0] != -1:\n",
    "        answer.append(pgen.max2[0])"
   ]
  },
  {
   "cell_type": "code",
   "execution_count": 40,
   "id": "another-celebration",
   "metadata": {},
   "outputs": [
    {
     "data": {
      "text/plain": [
       "[4, 1, 3, 0]"
      ]
     },
     "execution_count": 40,
     "metadata": {},
     "output_type": "execute_result"
    }
   ],
   "source": [
    "answer"
   ]
  },
  {
   "cell_type": "code",
   "execution_count": 41,
   "id": "personalized-plenty",
   "metadata": {},
   "outputs": [
    {
     "data": {
      "text/plain": [
       "3100: (4, 2500), (1, 600)"
      ]
     },
     "execution_count": 41,
     "metadata": {},
     "output_type": "execute_result"
    }
   ],
   "source": [
    "pgens[\"pop\"]"
   ]
  },
  {
   "cell_type": "code",
   "execution_count": null,
   "id": "genetic-cheat",
   "metadata": {},
   "outputs": [],
   "source": []
  }
 ],
 "metadata": {
  "kernelspec": {
   "display_name": "torch",
   "language": "python",
   "name": "torch"
  },
  "language_info": {
   "codemirror_mode": {
    "name": "ipython",
    "version": 3
   },
   "file_extension": ".py",
   "mimetype": "text/x-python",
   "name": "python",
   "nbconvert_exporter": "python",
   "pygments_lexer": "ipython3",
   "version": "3.7.9"
  }
 },
 "nbformat": 4,
 "nbformat_minor": 5
}
