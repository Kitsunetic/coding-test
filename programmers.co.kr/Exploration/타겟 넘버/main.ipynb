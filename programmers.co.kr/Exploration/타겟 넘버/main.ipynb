{
 "cells": [
  {
   "cell_type": "code",
   "execution_count": 1,
   "id": "opened-replica",
   "metadata": {},
   "outputs": [],
   "source": [
    "%load_ext lab_black"
   ]
  },
  {
   "cell_type": "code",
   "execution_count": 3,
   "id": "modular-cotton",
   "metadata": {},
   "outputs": [],
   "source": [
    "from queue import Queue"
   ]
  },
  {
   "cell_type": "code",
   "execution_count": 2,
   "id": "naval-australia",
   "metadata": {},
   "outputs": [],
   "source": [
    "numbers, target = [1, 1, 1, 1, 1], 3"
   ]
  },
  {
   "cell_type": "code",
   "execution_count": 11,
   "id": "vertical-jacob",
   "metadata": {},
   "outputs": [],
   "source": [
    "Q = Queue()"
   ]
  },
  {
   "cell_type": "code",
   "execution_count": 12,
   "id": "built-heater",
   "metadata": {},
   "outputs": [],
   "source": [
    "Q.put((0, 0, 1))\n",
    "Q.put((0, 0, -1))"
   ]
  },
  {
   "cell_type": "code",
   "execution_count": 13,
   "id": "approximate-jumping",
   "metadata": {},
   "outputs": [],
   "source": [
    "cnt = 0\n",
    "while not Q.empty():\n",
    "    c, i, s = Q.get()\n",
    "    c += s * numbers[i]\n",
    "    fv = sum(numbers[i + 1 :])\n",
    "\n",
    "    if i == len(numbers) - 1:\n",
    "        if c == target:\n",
    "            cnt += 1\n",
    "    else:\n",
    "        if (c < target and c + fv < target) or (c > target and c - fv > target):\n",
    "            continue\n",
    "\n",
    "        Q.put((c, i + 1, 1))\n",
    "        Q.put((c, i + 1, -1))"
   ]
  },
  {
   "cell_type": "code",
   "execution_count": 14,
   "id": "analyzed-recovery",
   "metadata": {},
   "outputs": [
    {
     "data": {
      "text/plain": [
       "5"
      ]
     },
     "execution_count": 14,
     "metadata": {},
     "output_type": "execute_result"
    }
   ],
   "source": [
    "cnt"
   ]
  },
  {
   "cell_type": "code",
   "execution_count": 15,
   "id": "occasional-breakdown",
   "metadata": {},
   "outputs": [
    {
     "data": {
      "text/plain": [
       "1048576"
      ]
     },
     "execution_count": 15,
     "metadata": {},
     "output_type": "execute_result"
    }
   ],
   "source": [
    "2 ** 20"
   ]
  }
 ],
 "metadata": {
  "kernelspec": {
   "display_name": "Python 3",
   "language": "python",
   "name": "python3"
  },
  "language_info": {
   "codemirror_mode": {
    "name": "ipython",
    "version": 3
   },
   "file_extension": ".py",
   "mimetype": "text/x-python",
   "name": "python",
   "nbconvert_exporter": "python",
   "pygments_lexer": "ipython3",
   "version": "3.7.9"
  }
 },
 "nbformat": 4,
 "nbformat_minor": 5
}
