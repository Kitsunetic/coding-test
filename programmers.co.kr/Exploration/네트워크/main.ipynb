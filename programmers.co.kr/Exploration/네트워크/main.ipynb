{
 "cells": [
  {
   "cell_type": "markdown",
   "id": "diverse-payment",
   "metadata": {},
   "source": [
    "- 전체를 노드/리스트로 만들음\n",
    "- cnt를 두고, 아무 노드로부터 시작. DFS로 node마다 cnt 자국을 남김\n",
    "- DFS가 끝나면 다음 자국이 없는 노드로 시작. cnt += 1 하고 자국을 남겨줌\n",
    "- 모든 노드에 대해 검색이 끝났으면 그 때의 cnt 값이 네트워크의 개수"
   ]
  },
  {
   "cell_type": "code",
   "execution_count": 1,
   "id": "documented-genome",
   "metadata": {},
   "outputs": [],
   "source": [
    "%load_ext lab_black"
   ]
  },
  {
   "cell_type": "code",
   "execution_count": 2,
   "id": "golden-mouse",
   "metadata": {},
   "outputs": [],
   "source": [
    "n, computers = 3, [[1, 1, 0], [1, 1, 0], [0, 0, 1]]"
   ]
  },
  {
   "cell_type": "code",
   "execution_count": 8,
   "id": "pregnant-attitude",
   "metadata": {},
   "outputs": [],
   "source": [
    "class Node:\n",
    "    def __init__(self, n):\n",
    "        self.n = n\n",
    "        self.cnt = -1\n",
    "        self.conn = set()"
   ]
  },
  {
   "cell_type": "code",
   "execution_count": 47,
   "id": "structured-franklin",
   "metadata": {},
   "outputs": [],
   "source": [
    "nodes = [Node(i) for i in range(n)]"
   ]
  },
  {
   "cell_type": "code",
   "execution_count": 48,
   "id": "bacterial-throw",
   "metadata": {},
   "outputs": [],
   "source": [
    "for i in range(1, n):\n",
    "    for j in range(0, i):\n",
    "        if computers[i][j]:\n",
    "            nodes[i].conn.add(j)\n",
    "            nodes[j].conn.add(i)"
   ]
  },
  {
   "cell_type": "code",
   "execution_count": 49,
   "id": "alert-marking",
   "metadata": {},
   "outputs": [],
   "source": [
    "def denode(nodes, node, cnt):\n",
    "    if node.cnt != -1:\n",
    "        return False\n",
    "\n",
    "    node.cnt = cnt\n",
    "    for i in node.conn:\n",
    "        denode(nodes[i], cnt)\n",
    "\n",
    "    return True"
   ]
  },
  {
   "cell_type": "code",
   "execution_count": 50,
   "id": "rocky-installation",
   "metadata": {},
   "outputs": [
    {
     "name": "stdout",
     "output_type": "stream",
     "text": [
      "0 -1 0\n",
      "1 -1 0\n",
      "0 0 0\n",
      "1 0 1\n",
      "2 -1 1\n"
     ]
    }
   ],
   "source": [
    "cnt = 0\n",
    "for i, node in enumerate(nodes):\n",
    "    if denode(node, cnt):\n",
    "        cnt += 1"
   ]
  },
  {
   "cell_type": "code",
   "execution_count": 51,
   "id": "collect-trust",
   "metadata": {},
   "outputs": [
    {
     "data": {
      "text/plain": [
       "2"
      ]
     },
     "execution_count": 51,
     "metadata": {},
     "output_type": "execute_result"
    }
   ],
   "source": [
    "cnt"
   ]
  },
  {
   "cell_type": "code",
   "execution_count": 52,
   "id": "express-kingston",
   "metadata": {},
   "outputs": [
    {
     "data": {
      "text/plain": [
       "0"
      ]
     },
     "execution_count": 52,
     "metadata": {},
     "output_type": "execute_result"
    }
   ],
   "source": [
    "nodes[1].cnt"
   ]
  }
 ],
 "metadata": {
  "kernelspec": {
   "display_name": "Python 3",
   "language": "python",
   "name": "python3"
  },
  "language_info": {
   "codemirror_mode": {
    "name": "ipython",
    "version": 3
   },
   "file_extension": ".py",
   "mimetype": "text/x-python",
   "name": "python",
   "nbconvert_exporter": "python",
   "pygments_lexer": "ipython3",
   "version": "3.7.9"
  }
 },
 "nbformat": 4,
 "nbformat_minor": 5
}
