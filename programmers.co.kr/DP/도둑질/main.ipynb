{
 "cells": [
  {
   "cell_type": "code",
   "execution_count": 1,
   "id": "limiting-clone",
   "metadata": {},
   "outputs": [],
   "source": [
    "%load_ext lab_black"
   ]
  },
  {
   "cell_type": "code",
   "execution_count": 2,
   "id": "2ab75146-5474-457c-92b9-6de8e680d01e",
   "metadata": {},
   "outputs": [],
   "source": [
    "def show():\n",
    "    for v in dp:\n",
    "        print(v)"
   ]
  },
  {
   "cell_type": "markdown",
   "id": "fourth-heart",
   "metadata": {},
   "source": [
    "DP는 모든 경우를 다 알아야 하는 경우에 연산 최적화를 위해 주로 쓰이는 것인가?\n",
    "\n",
    "Brute Force랑은 뭐랑 다르지? 최적화가 가능한지?\n",
    "\n",
    "## Policy\n",
    "\n",
    "- L=3 이면 max(money) 출력\n",
    "- L=4이면 (0, 2) or (1, 3) 중 선택\n",
    "- L=5이면\n",
    "\n",
    "- money가 홀수/짝수인지 나눈다.\n",
    "- dp의 사이즈는 L x (2 or 3)\n",
    "- "
   ]
  },
  {
   "cell_type": "code",
   "execution_count": 50,
   "id": "hindu-teach",
   "metadata": {},
   "outputs": [],
   "source": [
    "money = [1, 2, 3, 4, 5]"
   ]
  },
  {
   "cell_type": "code",
   "execution_count": 51,
   "id": "ab2319c7-f8a7-487e-9338-07dcbe52499f",
   "metadata": {},
   "outputs": [],
   "source": [
    "L = len(money)\n",
    "t = 2 + (L & 0x01)  # L이 홀/짝수일 때 dp의 column 수가 바뀜"
   ]
  },
  {
   "cell_type": "code",
   "execution_count": 52,
   "id": "fd1defc6-4581-49d2-8f34-fe3f86dedd7d",
   "metadata": {},
   "outputs": [
    {
     "data": {
      "text/plain": [
       "(5, 3)"
      ]
     },
     "execution_count": 52,
     "metadata": {},
     "output_type": "execute_result"
    }
   ],
   "source": [
    "L, t"
   ]
  },
  {
   "cell_type": "code",
   "execution_count": 53,
   "id": "ce85ccf4-f912-48fe-8028-59ac79f98de4",
   "metadata": {},
   "outputs": [],
   "source": [
    "dp = [[-1 for _ in range(t)] for _ in range(L)]"
   ]
  },
  {
   "cell_type": "code",
   "execution_count": 54,
   "id": "1009c3eb-2ee9-4feb-a355-7f7d9e278a3a",
   "metadata": {},
   "outputs": [],
   "source": [
    "for j in range(t):\n",
    "    dp[j][j] = money[j]\n",
    "for j in range(t):\n",
    "    dp[2 + j][j] = money[j] + money[2 + j]"
   ]
  },
  {
   "cell_type": "code",
   "execution_count": 55,
   "id": "f3a230d4-5312-4049-88c2-b3f0182374ae",
   "metadata": {},
   "outputs": [
    {
     "name": "stdout",
     "output_type": "stream",
     "text": [
      "[1, -1, -1]\n",
      "[-1, 2, -1]\n",
      "[4, -1, 3]\n",
      "[-1, 6, -1]\n",
      "[-1, -1, 8]\n"
     ]
    }
   ],
   "source": [
    "show()"
   ]
  },
  {
   "cell_type": "code",
   "execution_count": 41,
   "id": "fa718ffc-a017-4e4d-8f29-59ae6a5a7626",
   "metadata": {},
   "outputs": [],
   "source": [
    "for i in range(3, L):\n",
    "    for j in range(t):\n",
    "        lst = []\n",
    "\n",
    "        if not (0 <= i + j < L):\n",
    "            break\n",
    "\n",
    "        v = dp[i + j - 2][j]\n",
    "        if v != -1:\n",
    "            lst.append(v)\n",
    "\n",
    "        v = dp[i + j - 3][j]\n",
    "        if v != -1:\n",
    "            lst.append(v)\n",
    "\n",
    "        dp[i + j][j] = max(lst) + money[i]"
   ]
  },
  {
   "cell_type": "code",
   "execution_count": 42,
   "id": "cf9d423d-42a0-4fdc-940d-de66f1e7972f",
   "metadata": {},
   "outputs": [
    {
     "name": "stdout",
     "output_type": "stream",
     "text": [
      "[1, -1]\n",
      "[-1, 2]\n",
      "[4, -1]\n",
      "[2, 3]\n"
     ]
    }
   ],
   "source": [
    "show()"
   ]
  },
  {
   "cell_type": "code",
   "execution_count": 43,
   "id": "070498d7-a159-42bb-b937-8de3caab83fe",
   "metadata": {},
   "outputs": [],
   "source": [
    "mv = -1\n",
    "for i in range(L):\n",
    "    for j in range(t):\n",
    "        mv = max(mv, dp[i][j])"
   ]
  },
  {
   "cell_type": "code",
   "execution_count": 44,
   "id": "90ad0164-ad0b-4133-bbf0-1aea4687786a",
   "metadata": {},
   "outputs": [
    {
     "data": {
      "text/plain": [
       "4"
      ]
     },
     "execution_count": 44,
     "metadata": {},
     "output_type": "execute_result"
    }
   ],
   "source": [
    "mv"
   ]
  },
  {
   "cell_type": "code",
   "execution_count": 67,
   "id": "167e3d2f-fee3-4f82-9297-5b6c4db2da8b",
   "metadata": {},
   "outputs": [],
   "source": [
    "def solution(money):\n",
    "    L = len(money)\n",
    "    t = 2 + (L & 0x01)  # L이 홀/짝수일 때 dp의 column 수가 바뀜\n",
    "\n",
    "    if L == 3:\n",
    "        return max(money)\n",
    "\n",
    "    dp = [[-1 for _ in range(t)] for _ in range(L)]\n",
    "    mv = -1\n",
    "    for j in range(t):\n",
    "        dp[j][j] = money[j]\n",
    "        mv = max(mv, money[j])\n",
    "    for j in range(t):\n",
    "        dp[2 + j][j] = money[j] + money[2 + j]\n",
    "        mv = max(mv, money[j] + money[2 + j])\n",
    "\n",
    "    for i in range(3, L - 1):\n",
    "        for j in range(t):\n",
    "            if not (0 <= i + j < L):\n",
    "                break\n",
    "\n",
    "            v = max(dp[i + j - 2][j], dp[i + j - 3][j]) + money[i + j]\n",
    "            dp[i + j][j] = v\n",
    "            mv = max(mv, v)\n",
    "\n",
    "    return mv, dp"
   ]
  },
  {
   "cell_type": "code",
   "execution_count": 68,
   "id": "dd1cfa8e-9ecf-4b0c-af9a-47fbf8682e11",
   "metadata": {},
   "outputs": [
    {
     "data": {
      "text/plain": [
       "(24,\n",
       " [[1, -1, -1],\n",
       "  [-1, 2, -1],\n",
       "  [4, -1, 3],\n",
       "  [5, 6, -1],\n",
       "  [9, 7, 8],\n",
       "  [11, 12, 9],\n",
       "  [16, 14, 15],\n",
       "  [19, 20, 17],\n",
       "  [-1, 23, 24]])"
      ]
     },
     "execution_count": 68,
     "metadata": {},
     "output_type": "execute_result"
    }
   ],
   "source": [
    "solution([1, 2, 3, 4, 5, 6, 7, 8, 9])"
   ]
  },
  {
   "cell_type": "code",
   "execution_count": null,
   "id": "ae777986-28eb-455a-bf45-ad413ef141d1",
   "metadata": {},
   "outputs": [],
   "source": []
  }
 ],
 "metadata": {
  "kernelspec": {
   "display_name": "Python 3",
   "language": "python",
   "name": "python3"
  },
  "language_info": {
   "codemirror_mode": {
    "name": "ipython",
    "version": 3
   },
   "file_extension": ".py",
   "mimetype": "text/x-python",
   "name": "python",
   "nbconvert_exporter": "python",
   "pygments_lexer": "ipython3",
   "version": "3.7.9"
  }
 },
 "nbformat": 4,
 "nbformat_minor": 5
}
