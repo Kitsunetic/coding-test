{
 "cells": [
  {
   "cell_type": "code",
   "execution_count": 1,
   "id": "consolidated-alignment",
   "metadata": {},
   "outputs": [],
   "source": [
    "%load_ext lab_black"
   ]
  },
  {
   "cell_type": "code",
   "execution_count": 2,
   "id": "after-probability",
   "metadata": {},
   "outputs": [],
   "source": [
    "m, n, puddles = 4, 3, [[2, 2]]"
   ]
  },
  {
   "cell_type": "code",
   "execution_count": 18,
   "id": "western-salad",
   "metadata": {},
   "outputs": [],
   "source": [
    "dp = [[0 for _ in range(m)] for _ in range(n)]  # dp[n][m]"
   ]
  },
  {
   "cell_type": "code",
   "execution_count": 19,
   "id": "altered-kitty",
   "metadata": {},
   "outputs": [],
   "source": [
    "dp[0][0] = 1"
   ]
  },
  {
   "cell_type": "code",
   "execution_count": 20,
   "id": "directed-melbourne",
   "metadata": {},
   "outputs": [],
   "source": [
    "# 가로/세로축\n",
    "for i in range(m):\n",
    "    if [i + 1, 1] in puddles:\n",
    "        break\n",
    "    dp[0][i] = 1\n",
    "for i in range(n):\n",
    "    if [1, i + 1] in puddles:\n",
    "        break\n",
    "    dp[i][0] = 1"
   ]
  },
  {
   "cell_type": "code",
   "execution_count": 21,
   "id": "indonesian-summit",
   "metadata": {},
   "outputs": [
    {
     "data": {
      "text/plain": [
       "[[1, 1, 1, 1], [1, 0, 0, 0], [1, 0, 0, 0]]"
      ]
     },
     "execution_count": 21,
     "metadata": {},
     "output_type": "execute_result"
    }
   ],
   "source": [
    "dp"
   ]
  },
  {
   "cell_type": "code",
   "execution_count": 22,
   "id": "specialized-dispute",
   "metadata": {},
   "outputs": [],
   "source": [
    "for x in range(1, m):\n",
    "    for y in range(1, n):\n",
    "        if [x + 1, y + 1] in puddles:\n",
    "            continue\n",
    "\n",
    "        dp[y][x] = dp[y - 1][x] + dp[y][x - 1]"
   ]
  },
  {
   "cell_type": "code",
   "execution_count": 23,
   "id": "closed-david",
   "metadata": {},
   "outputs": [
    {
     "data": {
      "text/plain": [
       "[[1, 1, 1, 1], [1, 0, 1, 2], [1, 1, 2, 4]]"
      ]
     },
     "execution_count": 23,
     "metadata": {},
     "output_type": "execute_result"
    }
   ],
   "source": [
    "dp"
   ]
  },
  {
   "cell_type": "code",
   "execution_count": null,
   "id": "sublime-september",
   "metadata": {},
   "outputs": [],
   "source": []
  }
 ],
 "metadata": {
  "kernelspec": {
   "display_name": "Python 3",
   "language": "python",
   "name": "python3"
  },
  "language_info": {
   "codemirror_mode": {
    "name": "ipython",
    "version": 3
   },
   "file_extension": ".py",
   "mimetype": "text/x-python",
   "name": "python",
   "nbconvert_exporter": "python",
   "pygments_lexer": "ipython3",
   "version": "3.7.9"
  }
 },
 "nbformat": 4,
 "nbformat_minor": 5
}
