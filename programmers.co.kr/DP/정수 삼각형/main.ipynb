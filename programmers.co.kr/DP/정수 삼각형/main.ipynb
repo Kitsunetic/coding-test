{
 "cells": [
  {
   "cell_type": "code",
   "execution_count": 1,
   "id": "vanilla-riverside",
   "metadata": {},
   "outputs": [],
   "source": [
    "%load_ext lab_black"
   ]
  },
  {
   "cell_type": "code",
   "execution_count": 4,
   "id": "pursuant-approach",
   "metadata": {},
   "outputs": [],
   "source": [
    "triangle = [[7], [3, 8], [8, 1, 0], [2, 7, 4, 4], [4, 5, 2, 6, 5]]"
   ]
  },
  {
   "cell_type": "code",
   "execution_count": 5,
   "id": "handled-acoustic",
   "metadata": {},
   "outputs": [],
   "source": [
    "height = len(triangle)"
   ]
  },
  {
   "cell_type": "code",
   "execution_count": 13,
   "id": "finished-semester",
   "metadata": {},
   "outputs": [],
   "source": [
    "dp = [[0 for _ in range(height)] for _ in range(height)]"
   ]
  },
  {
   "cell_type": "code",
   "execution_count": 14,
   "id": "adapted-metro",
   "metadata": {},
   "outputs": [],
   "source": [
    "dp[0][0] = triangle[0][0]"
   ]
  },
  {
   "cell_type": "code",
   "execution_count": 15,
   "id": "thirty-yukon",
   "metadata": {},
   "outputs": [
    {
     "data": {
      "text/plain": [
       "[[7, 0, 0, 0, 0],\n",
       " [0, 0, 0, 0, 0],\n",
       " [0, 0, 0, 0, 0],\n",
       " [0, 0, 0, 0, 0],\n",
       " [0, 0, 0, 0, 0]]"
      ]
     },
     "execution_count": 15,
     "metadata": {},
     "output_type": "execute_result"
    }
   ],
   "source": [
    "dp"
   ]
  },
  {
   "cell_type": "code",
   "execution_count": 16,
   "id": "general-danger",
   "metadata": {},
   "outputs": [],
   "source": [
    "for i in range(1, height):\n",
    "    dp[i][0] = triangle[i][0] + dp[i - 1][0]\n",
    "    for j in range(1, i):\n",
    "        dp[i][j] = triangle[i][j] + max(dp[i - 1][j - 1], dp[i - 1][j])\n",
    "    dp[i][i] = triangle[i][-1] + dp[i - 1][i - 1]"
   ]
  },
  {
   "cell_type": "code",
   "execution_count": 17,
   "id": "thousand-headline",
   "metadata": {},
   "outputs": [
    {
     "data": {
      "text/plain": [
       "[[7, 0, 0, 0, 0],\n",
       " [10, 15, 0, 0, 0],\n",
       " [18, 16, 15, 0, 0],\n",
       " [20, 25, 20, 19, 0],\n",
       " [24, 30, 27, 26, 24]]"
      ]
     },
     "execution_count": 17,
     "metadata": {},
     "output_type": "execute_result"
    }
   ],
   "source": [
    "dp"
   ]
  },
  {
   "cell_type": "code",
   "execution_count": 19,
   "id": "recognized-toner",
   "metadata": {},
   "outputs": [
    {
     "data": {
      "text/plain": [
       "30"
      ]
     },
     "execution_count": 19,
     "metadata": {},
     "output_type": "execute_result"
    }
   ],
   "source": [
    "max(dp[-1])"
   ]
  }
 ],
 "metadata": {
  "kernelspec": {
   "display_name": "Python 3",
   "language": "python",
   "name": "python3"
  },
  "language_info": {
   "codemirror_mode": {
    "name": "ipython",
    "version": 3
   },
   "file_extension": ".py",
   "mimetype": "text/x-python",
   "name": "python",
   "nbconvert_exporter": "python",
   "pygments_lexer": "ipython3",
   "version": "3.7.9"
  }
 },
 "nbformat": 4,
 "nbformat_minor": 5
}
