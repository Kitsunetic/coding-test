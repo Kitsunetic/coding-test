{
 "cells": [
  {
   "cell_type": "code",
   "execution_count": 1,
   "id": "restricted-grant",
   "metadata": {},
   "outputs": [],
   "source": [
    "%load_ext lab_black"
   ]
  },
  {
   "cell_type": "code",
   "execution_count": 2,
   "id": "female-joshua",
   "metadata": {},
   "outputs": [],
   "source": [
    "from queue import Queue\n",
    "from collections import defaultdict"
   ]
  },
  {
   "cell_type": "code",
   "execution_count": 3,
   "id": "likely-ceramic",
   "metadata": {},
   "outputs": [],
   "source": [
    "class Node:\n",
    "    def __init__(self, n):\n",
    "        self.n = n\n",
    "        self.childs = []\n",
    "        self.d = -1\n",
    "\n",
    "    def add(self, v):\n",
    "        self.childs.append(v)"
   ]
  },
  {
   "cell_type": "code",
   "execution_count": 43,
   "id": "alive-maria",
   "metadata": {},
   "outputs": [],
   "source": [
    "n, vertex = 6, [[3, 6], [4, 3], [3, 2], [1, 3], [1, 2], [2, 4], [5, 2]]"
   ]
  },
  {
   "cell_type": "code",
   "execution_count": 84,
   "id": "false-savings",
   "metadata": {},
   "outputs": [],
   "source": [
    "nodelist = [Node(i) for i in range(n + 1)]"
   ]
  },
  {
   "cell_type": "code",
   "execution_count": 85,
   "id": "polar-beast",
   "metadata": {},
   "outputs": [],
   "source": [
    "for a, b in vertex:\n",
    "    nodelist[a].add(b)\n",
    "    nodelist[b].add(a)"
   ]
  },
  {
   "cell_type": "code",
   "execution_count": 86,
   "id": "false-explosion",
   "metadata": {},
   "outputs": [],
   "source": [
    "q = Queue()\n",
    "q.put((1, 0))"
   ]
  },
  {
   "cell_type": "code",
   "execution_count": 87,
   "id": "individual-humanitarian",
   "metadata": {},
   "outputs": [],
   "source": [
    "x = defaultdict(bool)"
   ]
  },
  {
   "cell_type": "code",
   "execution_count": 88,
   "id": "absolute-sellers",
   "metadata": {},
   "outputs": [
    {
     "name": "stdout",
     "output_type": "stream",
     "text": [
      "1 0 [3, 2]\n",
      "x 3 1\n",
      "x 2 1\n",
      "3 1 [6, 4, 2, 1]\n",
      "x 6 2\n",
      "x 4 2\n",
      "x 1 2\n",
      "2 1 [3, 1, 4, 5]\n",
      "x 5 2\n",
      "6 2 [3]\n",
      "4 2 [3, 2]\n",
      "5 2 [2]\n"
     ]
    }
   ],
   "source": [
    "while not q.empty():\n",
    "    v, d = q.get()\n",
    "    if nodelist[v].d != -1:\n",
    "        continue\n",
    "\n",
    "    print(v, d, nodelist[v].childs)\n",
    "    nodelist[v].d = d\n",
    "\n",
    "    for c in nodelist[v].childs:\n",
    "        if not x[c]:\n",
    "            q.put((c, d + 1))\n",
    "            print(\"x\", c, d + 1)\n",
    "            x[c] = True"
   ]
  },
  {
   "cell_type": "code",
   "execution_count": 89,
   "id": "straight-locking",
   "metadata": {},
   "outputs": [],
   "source": [
    "maxd, maxc = -1, 0\n",
    "for node in nodelist:\n",
    "    if node.d > maxd:\n",
    "        maxd = node.d\n",
    "        maxc = 1\n",
    "    elif node.d == maxd:\n",
    "        maxc += 1"
   ]
  },
  {
   "cell_type": "code",
   "execution_count": 90,
   "id": "complicated-manor",
   "metadata": {},
   "outputs": [
    {
     "data": {
      "text/plain": [
       "(2, 3)"
      ]
     },
     "execution_count": 90,
     "metadata": {},
     "output_type": "execute_result"
    }
   ],
   "source": [
    "maxd, maxc"
   ]
  },
  {
   "cell_type": "code",
   "execution_count": null,
   "id": "framed-sydney",
   "metadata": {},
   "outputs": [],
   "source": []
  }
 ],
 "metadata": {
  "kernelspec": {
   "display_name": "Python 3",
   "language": "python",
   "name": "python3"
  },
  "language_info": {
   "codemirror_mode": {
    "name": "ipython",
    "version": 3
   },
   "file_extension": ".py",
   "mimetype": "text/x-python",
   "name": "python",
   "nbconvert_exporter": "python",
   "pygments_lexer": "ipython3",
   "version": "3.7.9"
  }
 },
 "nbformat": 4,
 "nbformat_minor": 5
}
