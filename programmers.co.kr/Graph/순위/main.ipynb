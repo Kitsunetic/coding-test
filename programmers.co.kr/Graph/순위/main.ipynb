{
 "cells": [
  {
   "cell_type": "code",
   "execution_count": 1,
   "id": "56b66e2b-c531-427a-8dc5-470420ed514c",
   "metadata": {},
   "outputs": [],
   "source": [
    "%load_ext lab_black"
   ]
  },
  {
   "cell_type": "code",
   "execution_count": 10,
   "id": "1032ba51-5095-4464-b4fe-af559bc75157",
   "metadata": {},
   "outputs": [],
   "source": [
    "from queue import Queue"
   ]
  },
  {
   "cell_type": "code",
   "execution_count": 36,
   "id": "2a4c2643-5290-4944-813f-e219a681c45b",
   "metadata": {},
   "outputs": [],
   "source": [
    "n, results = 5, [[4, 3], [4, 2], [3, 2], [1, 2], [2, 5]]"
   ]
  },
  {
   "cell_type": "code",
   "execution_count": 37,
   "id": "e1baab4e-c238-4bb1-a4bf-edb57481aef5",
   "metadata": {},
   "outputs": [],
   "source": [
    "mat = [[0 for _ in range(n + 1)] for _ in range(n + 1)]"
   ]
  },
  {
   "cell_type": "code",
   "execution_count": 38,
   "id": "3b5b8636-0cfc-4b20-bad7-3df6dcd44813",
   "metadata": {},
   "outputs": [],
   "source": [
    "for i in range(1, n + 1):\n",
    "    mat[i][i] = 1"
   ]
  },
  {
   "cell_type": "code",
   "execution_count": 39,
   "id": "d6cbea3c-a776-4096-9751-addc91131e52",
   "metadata": {},
   "outputs": [],
   "source": [
    "for a, b in results:\n",
    "    mat[a][b] = 1"
   ]
  },
  {
   "cell_type": "code",
   "execution_count": 40,
   "id": "4cb0713e-6d5f-4b59-8829-1a0b930bf97b",
   "metadata": {},
   "outputs": [
    {
     "data": {
      "text/plain": [
       "[[0, 0, 0, 0, 0, 0],\n",
       " [0, 1, 1, 0, 0, 0],\n",
       " [0, 0, 1, 0, 0, 1],\n",
       " [0, 0, 1, 1, 0, 0],\n",
       " [0, 0, 1, 1, 1, 0],\n",
       " [0, 0, 0, 0, 0, 1]]"
      ]
     },
     "execution_count": 40,
     "metadata": {},
     "output_type": "execute_result"
    }
   ],
   "source": [
    "mat"
   ]
  },
  {
   "cell_type": "code",
   "execution_count": 41,
   "id": "7dcb83a9-333f-4e85-a1cb-be306787fc31",
   "metadata": {},
   "outputs": [],
   "source": [
    "for t in range(1, n + 1):\n",
    "    for i in range(1, n + 1):\n",
    "        for j in range(1, n + 1):\n",
    "            if j == i or mat[i][j] == 0:\n",
    "                continue\n",
    "\n",
    "            if mat[i][j] == 1:\n",
    "                for k in range(1, n + 1):\n",
    "                    mat[k][j] |= mat[k][i]"
   ]
  },
  {
   "cell_type": "code",
   "execution_count": 42,
   "id": "1a405ea7-10f9-4c82-be4d-0661eaa9319c",
   "metadata": {},
   "outputs": [
    {
     "data": {
      "text/plain": [
       "[[0, 0, 0, 0, 0, 0],\n",
       " [0, 1, 1, 0, 0, 1],\n",
       " [0, 0, 1, 0, 0, 1],\n",
       " [0, 0, 1, 1, 0, 1],\n",
       " [0, 0, 1, 1, 1, 1],\n",
       " [0, 0, 0, 0, 0, 1]]"
      ]
     },
     "execution_count": 42,
     "metadata": {},
     "output_type": "execute_result"
    }
   ],
   "source": [
    "mat"
   ]
  },
  {
   "cell_type": "code",
   "execution_count": 60,
   "id": "c699821a-3fac-4341-b4e4-0325ff91d43d",
   "metadata": {},
   "outputs": [],
   "source": [
    "u = {i for i in range(1, n + 1)}\n",
    "cnt = 0\n",
    "\n",
    "for i in range(1, n + 1):\n",
    "    s = set()\n",
    "    for j in range(1, n + 1):\n",
    "        if mat[i][j] == 1:\n",
    "            s.add(j)\n",
    "        if mat[j][i] == 1:\n",
    "            s.add(j)\n",
    "\n",
    "    if s == u:\n",
    "        cnt += 1"
   ]
  },
  {
   "cell_type": "code",
   "execution_count": 61,
   "id": "27b08f81-0af5-4763-980c-2cde75355f8f",
   "metadata": {},
   "outputs": [
    {
     "data": {
      "text/plain": [
       "2"
      ]
     },
     "execution_count": 61,
     "metadata": {},
     "output_type": "execute_result"
    }
   ],
   "source": [
    "cnt"
   ]
  },
  {
   "cell_type": "code",
   "execution_count": 62,
   "id": "63f00221-2ae6-4b7f-bc41-3c719e29bdcf",
   "metadata": {},
   "outputs": [],
   "source": [
    "from queue import Queue\n",
    "\n",
    "\n",
    "def solution(n, results):\n",
    "    mat = [[0 for _ in range(n + 1)] for _ in range(n + 1)]\n",
    "\n",
    "    for i in range(1, n + 1):\n",
    "        mat[i][i] = 1\n",
    "    for a, b in results:\n",
    "        mat[a][b] = 1\n",
    "\n",
    "    for t in range(1, n + 1):\n",
    "        for i in range(1, n + 1):\n",
    "            for j in range(1, n + 1):\n",
    "                if j == i or mat[i][j] == 0:\n",
    "                    continue\n",
    "\n",
    "                if mat[i][j] == 1:\n",
    "                    for k in range(1, n + 1):\n",
    "                        mat[k][j] |= mat[k][i]\n",
    "\n",
    "    u = {i for i in range(1, n + 1)}\n",
    "    cnt = 0\n",
    "\n",
    "    for i in range(1, n + 1):\n",
    "        s = set()\n",
    "        for j in range(1, n + 1):\n",
    "            if mat[i][j] == 1:\n",
    "                s.add(j)\n",
    "            if mat[j][i] == 1:\n",
    "                s.add(j)\n",
    "\n",
    "        if s == u:\n",
    "            cnt += 1\n",
    "\n",
    "    return cnt"
   ]
  },
  {
   "cell_type": "code",
   "execution_count": null,
   "id": "f157adc7-5ca6-4abc-885c-9c87bb8a7b70",
   "metadata": {},
   "outputs": [],
   "source": []
  }
 ],
 "metadata": {
  "kernelspec": {
   "display_name": "Python 3",
   "language": "python",
   "name": "python3"
  },
  "language_info": {
   "codemirror_mode": {
    "name": "ipython",
    "version": 3
   },
   "file_extension": ".py",
   "mimetype": "text/x-python",
   "name": "python",
   "nbconvert_exporter": "python",
   "pygments_lexer": "ipython3",
   "version": "3.7.9"
  }
 },
 "nbformat": 4,
 "nbformat_minor": 5
}
