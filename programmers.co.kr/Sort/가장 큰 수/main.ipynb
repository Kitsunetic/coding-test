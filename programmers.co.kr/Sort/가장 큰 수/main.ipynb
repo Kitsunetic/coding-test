{
 "cells": [
  {
   "cell_type": "code",
   "execution_count": 1,
   "id": "b384bb6e-6ec1-49e1-926b-23b9d2a70567",
   "metadata": {},
   "outputs": [],
   "source": [
    "%load_ext lab_black"
   ]
  },
  {
   "cell_type": "code",
   "execution_count": 64,
   "id": "af5b9e41-1684-4350-aeec-2fbe52e76ccc",
   "metadata": {},
   "outputs": [],
   "source": [
    "# numbers = [6, 10, 2]\n",
    "# numbers = [3, 30, 34, 5, 9, 2, 22, 222, 0, 90]\n",
    "# numbers = [10, 0, 0, 1, 2, 3, 4, 5, 6, 7, 8, 9, 10]\n",
    "# numbers = [412, 41]\n",
    "# numbers = [303, 30]\n",
    "# numbers = [1119, 1, 0, 0]\n",
    "numbers = [0, 0, 0, 0, 0]"
   ]
  },
  {
   "cell_type": "code",
   "execution_count": 65,
   "id": "d2ce9731-3d06-4886-b39b-0dfaddae27ed",
   "metadata": {},
   "outputs": [],
   "source": [
    "P = []\n",
    "for n in numbers:\n",
    "    n = str(n)\n",
    "    P.append(((n * 4)[:4], n))"
   ]
  },
  {
   "cell_type": "code",
   "execution_count": 66,
   "id": "3eed967e-64f8-4b85-bad9-276d34453e86",
   "metadata": {},
   "outputs": [
    {
     "data": {
      "text/plain": [
       "[('0000', '0'), ('0000', '0'), ('0000', '0'), ('0000', '0'), ('0000', '0')]"
      ]
     },
     "execution_count": 66,
     "metadata": {},
     "output_type": "execute_result"
    }
   ],
   "source": [
    "P"
   ]
  },
  {
   "cell_type": "code",
   "execution_count": 67,
   "id": "46d099f7-9b6e-4ab6-b2f7-970705f07807",
   "metadata": {},
   "outputs": [],
   "source": [
    "Q = sorted(P, reverse=True)"
   ]
  },
  {
   "cell_type": "code",
   "execution_count": 68,
   "id": "528cf805-e0f2-463b-b6dd-3d5a4929bc90",
   "metadata": {},
   "outputs": [
    {
     "data": {
      "text/plain": [
       "[('0000', '0'), ('0000', '0'), ('0000', '0'), ('0000', '0'), ('0000', '0')]"
      ]
     },
     "execution_count": 68,
     "metadata": {},
     "output_type": "execute_result"
    }
   ],
   "source": [
    "Q"
   ]
  },
  {
   "cell_type": "code",
   "execution_count": 69,
   "id": "bc5b3b53-5fe8-43af-8683-d56b6fe0bd8f",
   "metadata": {},
   "outputs": [
    {
     "data": {
      "text/plain": [
       "'00000'"
      ]
     },
     "execution_count": 69,
     "metadata": {},
     "output_type": "execute_result"
    }
   ],
   "source": [
    "\"\".join(map(lambda x: x[1], Q))"
   ]
  },
  {
   "cell_type": "code",
   "execution_count": 62,
   "id": "b3b06b60-549c-4797-81f7-cc43bc67642b",
   "metadata": {},
   "outputs": [],
   "source": [
    "def solution(numbers):\n",
    "    P = []\n",
    "    for n in numbers:\n",
    "        n = str(n)\n",
    "        P.append(((n * 4)[:4], n))\n",
    "\n",
    "    Q = sorted(P, reverse=True)\n",
    "    answer = str(int(\"\".join(map(lambda x: x[1], Q)))) # 여기서 str(int())를 해야지 테스트11에서 통과함.\n",
    "    return answer"
   ]
  },
  {
   "cell_type": "code",
   "execution_count": null,
   "id": "31258e60-ddf2-42c1-9b3c-4e0c6af4cc65",
   "metadata": {},
   "outputs": [],
   "source": []
  }
 ],
 "metadata": {
  "kernelspec": {
   "display_name": "Python 3",
   "language": "python",
   "name": "python3"
  },
  "language_info": {
   "codemirror_mode": {
    "name": "ipython",
    "version": 3
   },
   "file_extension": ".py",
   "mimetype": "text/x-python",
   "name": "python",
   "nbconvert_exporter": "python",
   "pygments_lexer": "ipython3",
   "version": "3.7.9"
  }
 },
 "nbformat": 4,
 "nbformat_minor": 5
}
