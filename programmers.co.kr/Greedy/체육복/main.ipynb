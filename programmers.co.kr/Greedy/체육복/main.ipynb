{
 "cells": [
  {
   "cell_type": "code",
   "execution_count": 1,
   "id": "boxed-explanation",
   "metadata": {},
   "outputs": [],
   "source": [
    "%load_ext lab_black"
   ]
  },
  {
   "cell_type": "markdown",
   "id": "indonesian-village",
   "metadata": {},
   "source": [
    "Greedy > Lv 1\n",
    "\n",
    "https://programmers.co.kr/learn/courses/30/lessons/42862"
   ]
  },
  {
   "cell_type": "markdown",
   "id": "remarkable-certification",
   "metadata": {},
   "source": [
    "## Input Data"
   ]
  },
  {
   "cell_type": "code",
   "execution_count": 7,
   "id": "comparable-junction",
   "metadata": {},
   "outputs": [],
   "source": [
    "n = 5\n",
    "lost = [2, 4]\n",
    "reserve = [1, 3, 5]\n",
    "ans = 5"
   ]
  },
  {
   "cell_type": "code",
   "execution_count": 15,
   "id": "interim-durham",
   "metadata": {},
   "outputs": [],
   "source": [
    "n = 5\n",
    "lost = [2, 4]\n",
    "reserve = [3]\n",
    "ans = 4"
   ]
  },
  {
   "cell_type": "code",
   "execution_count": 20,
   "id": "photographic-advocacy",
   "metadata": {},
   "outputs": [],
   "source": [
    "n = 3\n",
    "lost = [3]\n",
    "reserve = [1]\n",
    "ans = 2"
   ]
  },
  {
   "cell_type": "markdown",
   "id": "cognitive-lease",
   "metadata": {},
   "source": [
    "## Solution"
   ]
  },
  {
   "cell_type": "code",
   "execution_count": 26,
   "id": "sized-optimum",
   "metadata": {},
   "outputs": [],
   "source": [
    "p = [1 for _ in range(n + 1)]\n",
    "for i in lost:\n",
    "    p[i] -= 1\n",
    "for i in reserve:\n",
    "    p[i] += 1"
   ]
  },
  {
   "cell_type": "code",
   "execution_count": 27,
   "id": "korean-light",
   "metadata": {},
   "outputs": [
    {
     "data": {
      "text/plain": [
       "[1, 2, 1, 0]"
      ]
     },
     "execution_count": 27,
     "metadata": {},
     "output_type": "execute_result"
    }
   ],
   "source": [
    "p"
   ]
  },
  {
   "cell_type": "code",
   "execution_count": 28,
   "id": "completed-davis",
   "metadata": {},
   "outputs": [],
   "source": [
    "# 정책: 0을 만나면 왼쪽에게 빌리고, 왼쪽이 없으면 오른쪽에게 빌린다.\n",
    "# p[0] 은 무시한다."
   ]
  },
  {
   "cell_type": "code",
   "execution_count": 29,
   "id": "animated-imagination",
   "metadata": {},
   "outputs": [],
   "source": [
    "for i in range(1, n + 1):\n",
    "    if p[i] == 0:\n",
    "        if i != 1 and p[i - 1] > 1:\n",
    "            p[i] += 1\n",
    "            p[i - 1] -= 1\n",
    "        elif i != n and p[i + 1] > 1:\n",
    "            p[i] += 1\n",
    "            p[i + 1] -= 1"
   ]
  },
  {
   "cell_type": "code",
   "execution_count": 30,
   "id": "remarkable-daniel",
   "metadata": {},
   "outputs": [
    {
     "data": {
      "text/plain": [
       "[1, 2, 1, 0]"
      ]
     },
     "execution_count": 30,
     "metadata": {},
     "output_type": "execute_result"
    }
   ],
   "source": [
    "p"
   ]
  },
  {
   "cell_type": "markdown",
   "id": "impaired-memory",
   "metadata": {},
   "source": [
    "## Submit"
   ]
  },
  {
   "cell_type": "code",
   "execution_count": 31,
   "id": "attractive-negotiation",
   "metadata": {},
   "outputs": [],
   "source": [
    "def solution(n, lost, reserve):\n",
    "    p = [1 for _ in range(n + 1)]\n",
    "    for i in lost:\n",
    "        p[i] -= 1\n",
    "    for i in reserve:\n",
    "        p[i] += 1\n",
    "\n",
    "    for i in range(1, n + 1):\n",
    "        if p[i] == 0:\n",
    "            if i != 1 and p[i - 1] > 1:\n",
    "                p[i] += 1\n",
    "                p[i - 1] -= 1\n",
    "            elif i != n and p[i + 1] > 1:\n",
    "                p[i] += 1\n",
    "                p[i + 1] -= 1\n",
    "\n",
    "    answer = 0\n",
    "    for v in p[1:]:\n",
    "        answer += min(v, 1)\n",
    "\n",
    "    return answer"
   ]
  },
  {
   "cell_type": "code",
   "execution_count": null,
   "id": "bound-davis",
   "metadata": {},
   "outputs": [],
   "source": []
  }
 ],
 "metadata": {
  "kernelspec": {
   "display_name": "Python 3",
   "language": "python",
   "name": "python3"
  },
  "language_info": {
   "codemirror_mode": {
    "name": "ipython",
    "version": 3
   },
   "file_extension": ".py",
   "mimetype": "text/x-python",
   "name": "python",
   "nbconvert_exporter": "python",
   "pygments_lexer": "ipython3",
   "version": "3.7.9"
  }
 },
 "nbformat": 4,
 "nbformat_minor": 5
}
