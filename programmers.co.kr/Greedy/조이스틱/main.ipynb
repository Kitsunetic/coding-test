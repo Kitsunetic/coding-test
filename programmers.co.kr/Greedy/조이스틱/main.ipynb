{
 "cells": [
  {
   "cell_type": "code",
   "execution_count": 1,
   "id": "annual-training",
   "metadata": {},
   "outputs": [],
   "source": [
    "%load_ext lab_black"
   ]
  },
  {
   "cell_type": "code",
   "execution_count": 1,
   "id": "dressed-gallery",
   "metadata": {},
   "outputs": [],
   "source": [
    "name = \"JEROEN\"\n",
    "ans = 56"
   ]
  },
  {
   "cell_type": "code",
   "execution_count": null,
   "id": "vanilla-hawaiian",
   "metadata": {},
   "outputs": [],
   "source": [
    "name = \"JAN\"\n",
    "ans = 23"
   ]
  },
  {
   "cell_type": "code",
   "execution_count": 24,
   "id": "offshore-carter",
   "metadata": {},
   "outputs": [],
   "source": [
    "name = \"AAAABAAAAAAAA\"\n",
    "ans = 5"
   ]
  },
  {
   "cell_type": "code",
   "execution_count": 108,
   "id": "adjustable-suicide",
   "metadata": {},
   "outputs": [],
   "source": [
    "name = \"AAAAAAAAAAAA\"\n",
    "ans = 0"
   ]
  },
  {
   "cell_type": "code",
   "execution_count": 120,
   "id": "artificial-playback",
   "metadata": {},
   "outputs": [],
   "source": [
    "name = \"AZAAAA\"\n",
    "ans = 2"
   ]
  },
  {
   "cell_type": "code",
   "execution_count": 129,
   "id": "early-presentation",
   "metadata": {},
   "outputs": [],
   "source": [
    "name = \"C\"\n",
    "ans = 2"
   ]
  },
  {
   "cell_type": "code",
   "execution_count": 140,
   "id": "collected-delhi",
   "metadata": {},
   "outputs": [],
   "source": [
    "name = \"AAZZAA\"\n",
    "ans = 5"
   ]
  },
  {
   "cell_type": "code",
   "execution_count": 3,
   "id": "joint-ratio",
   "metadata": {},
   "outputs": [],
   "source": [
    "name = \"AZAAAAZA\"\n",
    "ans = 6"
   ]
  },
  {
   "cell_type": "code",
   "execution_count": 2,
   "id": "confused-hardware",
   "metadata": {},
   "outputs": [],
   "source": [
    "name = \"BBBAAB\""
   ]
  },
  {
   "cell_type": "markdown",
   "id": "international-necklace",
   "metadata": {},
   "source": [
    "알파벳을 만드는건 중요하지 않고, 왼쪽 / 오른쪽으로 이동할지를 결정하는게 중요하다.\n",
    "그리고 좌우에 몇개의 A가 있는지 세는 것도 중요하다.\n",
    "\n",
    "이동 회수는\n",
    "- 오른쪽으로 갈 경우 len(name) - n(A_right) - 1\n",
    "- 왼쪽으로 갈 경우 len(name) - n(A_left) - 1"
   ]
  },
  {
   "cell_type": "code",
   "execution_count": 2,
   "id": "fluid-tiffany",
   "metadata": {},
   "outputs": [],
   "source": [
    "alphabets = \"ABCDEFGHIJKLMNOPQRSTUVWXYZ\"\n",
    "alphavets = [0, 1, 2, 3, 4, 5, 6, 7, 8, 9, 10, 11, 12, 13, 12, 11, 10, 9, 8, 7, 6, 5, 4, 3, 2, 1]\n",
    "alphanets = {v: i for i, v in zip(alphavets, alphabets)}"
   ]
  },
  {
   "cell_type": "code",
   "execution_count": 3,
   "id": "humanitarian-brother",
   "metadata": {},
   "outputs": [
    {
     "data": {
      "text/plain": [
       "{'A': 0,\n",
       " 'B': 1,\n",
       " 'C': 2,\n",
       " 'D': 3,\n",
       " 'E': 4,\n",
       " 'F': 5,\n",
       " 'G': 6,\n",
       " 'H': 7,\n",
       " 'I': 8,\n",
       " 'J': 9,\n",
       " 'K': 10,\n",
       " 'L': 11,\n",
       " 'M': 12,\n",
       " 'N': 13,\n",
       " 'O': 12,\n",
       " 'P': 11,\n",
       " 'Q': 10,\n",
       " 'R': 9,\n",
       " 'S': 8,\n",
       " 'T': 7,\n",
       " 'U': 6,\n",
       " 'V': 5,\n",
       " 'W': 4,\n",
       " 'X': 3,\n",
       " 'Y': 2,\n",
       " 'Z': 1}"
      ]
     },
     "execution_count": 3,
     "metadata": {},
     "output_type": "execute_result"
    }
   ],
   "source": [
    "alphanets"
   ]
  },
  {
   "cell_type": "markdown",
   "id": "acting-immigration",
   "metadata": {},
   "source": [
    "## 최근접 방향 이동"
   ]
  },
  {
   "cell_type": "code",
   "execution_count": 4,
   "id": "champion-budapest",
   "metadata": {},
   "outputs": [],
   "source": [
    "class Solver:\n",
    "    def __init__(self, name):\n",
    "        self.name = list(name)\n",
    "        self.N = len(self.name)\n",
    "        self.cursor = 0\n",
    "        self.answer = 0\n",
    "\n",
    "    def stand(self):\n",
    "        self.answer += alphanets[self.name[self.cursor]]\n",
    "        self.name[self.cursor] = \"A\"\n",
    "\n",
    "    def see(self):\n",
    "        name = self.name + self.name + self.name\n",
    "        c = self.N + self.cursor\n",
    "\n",
    "        # see left\n",
    "        dl, zl = None, None\n",
    "        for l in range(c - 1, -1, -1):\n",
    "            if name[l] != \"A\":\n",
    "                dl = c - l\n",
    "                break\n",
    "        if dl is not None:\n",
    "            for i in range(l - 1, -1, -1):\n",
    "                if name[i] == \"A\":\n",
    "                    zl = c - i\n",
    "                    break\n",
    "\n",
    "        # see right\n",
    "        dr, zr = None, None\n",
    "        for r in range(c + 1, 3 * self.N, 1):\n",
    "            if name[r] != \"A\":\n",
    "                dr = r - c\n",
    "                break\n",
    "        if dr is not None:\n",
    "            for i in range(r + 1, 3 * self.N, 1):\n",
    "                if name[i] == \"A\":\n",
    "                    zr = i - c\n",
    "                    break\n",
    "\n",
    "        return dl, zl, dr, zr\n",
    "\n",
    "    def move(self, dl, zl, dr, zr):\n",
    "        if dr is None or dl is None:\n",
    "            return True\n",
    "        elif dl > dr:\n",
    "            self.cursor += dr\n",
    "            if self.cursor >= self.N:\n",
    "                self.cursor -= self.N\n",
    "            self.answer += dr\n",
    "        elif dl < dr:\n",
    "            self.cursor -= dl\n",
    "            if self.cursor < 0:\n",
    "                self.cursor += self.N\n",
    "            self.answer += dl\n",
    "        elif zl < zr:\n",
    "            self.cursor -= dl\n",
    "            if self.cursor < 0:\n",
    "                self.cursor += self.N\n",
    "            self.answer += dl\n",
    "        else:\n",
    "            self.cursor += dr\n",
    "            if self.cursor >= self.N:\n",
    "                self.cursor -= self.N\n",
    "            self.answer += dr\n",
    "\n",
    "        return False\n",
    "\n",
    "    def do(self):\n",
    "        while True:\n",
    "            self.stand()\n",
    "            l, dl, r, dr = self.see()\n",
    "            print(self.cursor, l, dl, r, dr)\n",
    "            if self.move(l, dl, r, dr):\n",
    "                break"
   ]
  },
  {
   "cell_type": "code",
   "execution_count": 5,
   "id": "adopted-brighton",
   "metadata": {},
   "outputs": [],
   "source": [
    "solver = Solver(name)"
   ]
  },
  {
   "cell_type": "code",
   "execution_count": 6,
   "id": "indirect-assistant",
   "metadata": {},
   "outputs": [
    {
     "name": "stdout",
     "output_type": "stream",
     "text": [
      "0 1 6 1 6\n",
      "1 2 6 1 5\n",
      "2 3 6 1 4\n",
      "3 4 6 1 3\n",
      "4 5 6 1 2\n",
      "5 None None None None\n"
     ]
    }
   ],
   "source": [
    "solver.do()"
   ]
  },
  {
   "cell_type": "code",
   "execution_count": 7,
   "id": "governing-thong",
   "metadata": {},
   "outputs": [
    {
     "data": {
      "text/plain": [
       "56"
      ]
     },
     "execution_count": 7,
     "metadata": {},
     "output_type": "execute_result"
    }
   ],
   "source": [
    "solver.answer"
   ]
  },
  {
   "cell_type": "code",
   "execution_count": 8,
   "id": "floral-shore",
   "metadata": {},
   "outputs": [
    {
     "data": {
      "text/plain": [
       "['A', 'A', 'A', 'A', 'A', 'A']"
      ]
     },
     "execution_count": 8,
     "metadata": {},
     "output_type": "execute_result"
    }
   ],
   "source": [
    "solver.name"
   ]
  },
  {
   "cell_type": "code",
   "execution_count": 13,
   "id": "caring-ottawa",
   "metadata": {},
   "outputs": [
    {
     "data": {
      "text/plain": [
       "5"
      ]
     },
     "execution_count": 13,
     "metadata": {},
     "output_type": "execute_result"
    }
   ],
   "source": [
    "solver.cursor"
   ]
  },
  {
   "cell_type": "code",
   "execution_count": null,
   "id": "funded-spray",
   "metadata": {},
   "outputs": [],
   "source": []
  }
 ],
 "metadata": {
  "kernelspec": {
   "display_name": "Python 3",
   "language": "python",
   "name": "python3"
  },
  "language_info": {
   "codemirror_mode": {
    "name": "ipython",
    "version": 3
   },
   "file_extension": ".py",
   "mimetype": "text/x-python",
   "name": "python",
   "nbconvert_exporter": "python",
   "pygments_lexer": "ipython3",
   "version": "3.7.9"
  }
 },
 "nbformat": 4,
 "nbformat_minor": 5
}
