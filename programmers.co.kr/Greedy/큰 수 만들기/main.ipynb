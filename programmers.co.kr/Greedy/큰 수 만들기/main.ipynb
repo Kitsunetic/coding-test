{
 "cells": [
  {
   "cell_type": "code",
   "execution_count": 1,
   "id": "impossible-murder",
   "metadata": {},
   "outputs": [],
   "source": [
    "%load_ext lab_black"
   ]
  },
  {
   "cell_type": "code",
   "execution_count": 280,
   "id": "major-pakistan",
   "metadata": {},
   "outputs": [],
   "source": [
    "class Solver:\n",
    "    def __init__(self, ns):\n",
    "        self.ns = ns\n",
    "        self.A, self.B = self.split(self.ns)\n",
    "\n",
    "    def split(self, M):\n",
    "        if len(M) == 0:\n",
    "            return [], []\n",
    "        elif len(M) == 1:\n",
    "            return [], M\n",
    "        else:\n",
    "            for i in range(len(M) - 1):\n",
    "                if M[i][0] < M[i + 1][0]:\n",
    "                    return M[:i], M[i:]\n",
    "            return M[:-1], M[-1:]\n",
    "\n",
    "    def update(self, k):\n",
    "        if self.B[0][1] == 1:\n",
    "            self.B = self.B[1:]\n",
    "            k -= 1\n",
    "        elif self.B[0][1] < k:\n",
    "            k -= self.B[0][1]\n",
    "            self.B = self.B[1:]\n",
    "        else:\n",
    "            # self.B[0] = (self.B[0][0], self.B[0][1] - k)\n",
    "            self.B[0][1] -= k\n",
    "            k = 0\n",
    "\n",
    "        if len(self.A) > 0 and len(self.B) > 0 and self.A[-1][0] <= self.B[0][0]:\n",
    "            self.B = [self.A[-1]] + self.B\n",
    "            self.A = self.A[:-1]\n",
    "\n",
    "        A, self.B = self.split(self.B)\n",
    "        self.A += A\n",
    "\n",
    "        return k"
   ]
  },
  {
   "cell_type": "code",
   "execution_count": 281,
   "id": "inner-manner",
   "metadata": {},
   "outputs": [],
   "source": [
    "# number, k = \"1924\", 2\n",
    "# number, k = \"1231234\", 3\n",
    "# number, k = \"4177252841\", 4\n",
    "# number, k = \"2919\", 1\n",
    "# number, k = \"2919\", 2\n",
    "# number, k = \"729\", 2\n",
    "# number, k = \"1\", 0\n",
    "# number, k = \"1\", 1\n",
    "# number, k = \"8729\", 0\n",
    "# number, k = \"8729\", 2\n",
    "# number, k = \"1777717777\", 5\n",
    "# number, k = \"100000000\", 5\n",
    "# number, k = \"1000010000\", 5\n",
    "number, k = \"00001000010000\", 5"
   ]
  },
  {
   "cell_type": "code",
   "execution_count": 282,
   "id": "animated-auckland",
   "metadata": {},
   "outputs": [],
   "source": [
    "# number = list(map(int, number))\n",
    "\n",
    "ns = []\n",
    "n = number[0]\n",
    "t = 1\n",
    "for i in range(1, len(number)):\n",
    "    if number[i] == n:\n",
    "        t += 1\n",
    "    else:\n",
    "        ns.append([n, t])\n",
    "        n = number[i]\n",
    "        t = 1\n",
    "ns.append((n, t))"
   ]
  },
  {
   "cell_type": "code",
   "execution_count": 283,
   "id": "satisfactory-pacific",
   "metadata": {},
   "outputs": [
    {
     "name": "stdout",
     "output_type": "stream",
     "text": [
      "00001000010000 5\n",
      "[['0', 4], ['1', 1], ['0', 4], ['1', 1], ('0', 4)]\n"
     ]
    }
   ],
   "source": [
    "print(number, k)\n",
    "print(ns)"
   ]
  },
  {
   "cell_type": "code",
   "execution_count": 284,
   "id": "thousand-civilian",
   "metadata": {},
   "outputs": [],
   "source": [
    "solver = Solver(ns)"
   ]
  },
  {
   "cell_type": "code",
   "execution_count": 285,
   "id": "differential-selling",
   "metadata": {},
   "outputs": [
    {
     "name": "stdout",
     "output_type": "stream",
     "text": [
      "[] [['0', 4], ['1', 1], ['0', 4], ['1', 1], ('0', 4)]\n",
      "[['1', 1]] [['0', 4], ['1', 1], ('0', 4)]\n",
      "[['1', 1]] [['0', 3], ['1', 1], ('0', 4)]\n"
     ]
    }
   ],
   "source": [
    "while k > 0:\n",
    "    print(solver.A, solver.B)\n",
    "    k = solver.update(k)\n",
    "print(solver.A, solver.B)"
   ]
  },
  {
   "cell_type": "code",
   "execution_count": 286,
   "id": "forty-concord",
   "metadata": {},
   "outputs": [],
   "source": [
    "def repeat(v, t):\n",
    "    v = str(v)\n",
    "    return \"\".join([v for _ in range(t)])"
   ]
  },
  {
   "cell_type": "code",
   "execution_count": 287,
   "id": "usual-produce",
   "metadata": {},
   "outputs": [],
   "source": [
    "from itertools import chain\n",
    "\n",
    "answer = \"\"\n",
    "for v, t in chain(solver.A, solver.B):\n",
    "    answer += repeat(v, t)"
   ]
  },
  {
   "cell_type": "code",
   "execution_count": 288,
   "id": "balanced-dominican",
   "metadata": {},
   "outputs": [
    {
     "data": {
      "text/plain": [
       "'100010000'"
      ]
     },
     "execution_count": 288,
     "metadata": {},
     "output_type": "execute_result"
    }
   ],
   "source": [
    "answer"
   ]
  },
  {
   "cell_type": "code",
   "execution_count": null,
   "id": "recent-insert",
   "metadata": {},
   "outputs": [],
   "source": []
  }
 ],
 "metadata": {
  "kernelspec": {
   "display_name": "Python 3",
   "language": "python",
   "name": "python3"
  },
  "language_info": {
   "codemirror_mode": {
    "name": "ipython",
    "version": 3
   },
   "file_extension": ".py",
   "mimetype": "text/x-python",
   "name": "python",
   "nbconvert_exporter": "python",
   "pygments_lexer": "ipython3",
   "version": "3.7.9"
  }
 },
 "nbformat": 4,
 "nbformat_minor": 5
}
