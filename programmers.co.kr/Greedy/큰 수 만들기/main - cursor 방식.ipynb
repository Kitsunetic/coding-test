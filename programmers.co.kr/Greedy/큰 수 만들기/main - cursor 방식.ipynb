{
 "cells": [
  {
   "cell_type": "code",
   "execution_count": 63,
   "id": "subsequent-queen",
   "metadata": {},
   "outputs": [
    {
     "name": "stdout",
     "output_type": "stream",
     "text": [
      "The lab_black extension is already loaded. To reload it, use:\n",
      "  %reload_ext lab_black\n"
     ]
    }
   ],
   "source": [
    "%load_ext lab_black"
   ]
  },
  {
   "cell_type": "code",
   "execution_count": 152,
   "id": "wired-trinidad",
   "metadata": {},
   "outputs": [],
   "source": [
    "# number, k = \"1924\", 2\n",
    "# number, k = \"1231234\", 3\n",
    "# number, k = \"4177252841\", 4\n",
    "# number, k = \"2919\", 1\n",
    "# number, k = \"2919\", 2\n",
    "# number, k = \"729\", 2\n",
    "# number, k = \"1\", 0\n",
    "# number, k = \"1\", 1\n",
    "# number, k = \"8729\", 0\n",
    "# number, k = \"8729\", 2\n",
    "# number, k = \"1777717777\", 5\n",
    "# number, k = \"100000000\", 5\n",
    "# number, k = \"1000010000\", 5\n",
    "# number, k = \"00001009010000\", 5\n",
    "# number, k = \"1009010000\", 5\n",
    "# number, k = \"7139\", 2\n",
    "number, k = \"7111\", 2"
   ]
  },
  {
   "cell_type": "code",
   "execution_count": 153,
   "id": "boolean-turning",
   "metadata": {},
   "outputs": [],
   "source": [
    "class Solver:\n",
    "    def __init__(self, number, k):\n",
    "        self.number = number\n",
    "        self.k = k\n",
    "        self.N = len(self.number)\n",
    "\n",
    "        self.reset_cursor()\n",
    "\n",
    "    def reset_cursor(self, start_idx=0):\n",
    "        if start_idx >= len(self.number) - 1:\n",
    "            self.cursor = start_idx\n",
    "            return\n",
    "\n",
    "        # 앞쪽의 숫자가 뒷쪽보다 작은 위치까지만 이동\n",
    "        self.cursor = start_idx\n",
    "        while True:\n",
    "            if self.number[self.cursor] < self.number[self.cursor + 1]:\n",
    "                break\n",
    "\n",
    "            self.cursor += 1\n",
    "            if self.cursor >= len(self.number) - 1:\n",
    "                break\n",
    "\n",
    "    def update(self):\n",
    "        # 커서를 왼쪽/오른쪽으로 이동할지 결정\n",
    "        if self.cursor == 0:\n",
    "            self.number = self.number[1:]\n",
    "            self.k -= 1\n",
    "            self.reset_cursor()\n",
    "        elif self.cursor == len(self.number) - 1:\n",
    "            self.number = self.number[:-1]\n",
    "            self.cursor -= 1\n",
    "            self.k -= 1\n",
    "        else:\n",
    "            go_left = self.number[self.cursor - 1] < self.number[self.cursor + 1]\n",
    "            self.number = self.number[: self.cursor] + self.number[self.cursor + 1 :]\n",
    "            if go_left:\n",
    "                self.cursor -= 1\n",
    "            else:\n",
    "                self.reset_cursor(self.cursor)\n",
    "            self.k -= 1"
   ]
  },
  {
   "cell_type": "code",
   "execution_count": 154,
   "id": "interim-brazilian",
   "metadata": {},
   "outputs": [],
   "source": [
    "solver = Solver(number, k)"
   ]
  },
  {
   "cell_type": "code",
   "execution_count": 155,
   "id": "rapid-spread",
   "metadata": {},
   "outputs": [
    {
     "name": "stdout",
     "output_type": "stream",
     "text": [
      "7111 2 3\n",
      "711 1 2\n",
      "71 0 1\n"
     ]
    }
   ],
   "source": [
    "while solver.k > 0:\n",
    "    print(solver.number, solver.k, solver.cursor)\n",
    "    solver.update()\n",
    "print(solver.number, solver.k, solver.cursor)"
   ]
  },
  {
   "cell_type": "code",
   "execution_count": null,
   "id": "eight-mystery",
   "metadata": {},
   "outputs": [],
   "source": []
  }
 ],
 "metadata": {
  "kernelspec": {
   "display_name": "Python 3",
   "language": "python",
   "name": "python3"
  },
  "language_info": {
   "codemirror_mode": {
    "name": "ipython",
    "version": 3
   },
   "file_extension": ".py",
   "mimetype": "text/x-python",
   "name": "python",
   "nbconvert_exporter": "python",
   "pygments_lexer": "ipython3",
   "version": "3.7.9"
  }
 },
 "nbformat": 4,
 "nbformat_minor": 5
}
