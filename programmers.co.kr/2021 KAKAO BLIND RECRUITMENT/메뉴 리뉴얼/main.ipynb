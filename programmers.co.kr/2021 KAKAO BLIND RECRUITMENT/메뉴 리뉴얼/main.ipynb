{
 "cells": [
  {
   "cell_type": "code",
   "execution_count": 1,
   "id": "b43c0200-8c99-4a2a-9e72-2c06caccbcdf",
   "metadata": {},
   "outputs": [],
   "source": [
    "%load_ext lab_black"
   ]
  },
  {
   "cell_type": "markdown",
   "id": "ce67a98c-f2a0-4f78-ada2-3cb32be114e3",
   "metadata": {},
   "source": [
    "문제가 좀 이상하다.\n",
    "\n",
    "\"단품메뉴 조합 중에서 가장 많은 사람들이 고른 조합을 코스요리 메뉴 구성 후보에 넣는데, 만약 같은 코스에 같은 수의 사람들이 선택한 단품메뉴 조합이 있다면 그 것들을 모두 메뉴 구성 후보에 넣는다.\"\n",
    "\n",
    "라는 말이 빠진듯?? 예제를 보고서 유추해내야하는건가? 아니면 내가 뭔가 잘못읽었나?  \n",
    "이 문제 실제 공채에서 풀 때도 문제가 이해가 안되서 한참 시간 끌었던 기억이 난다.\n",
    "\n",
    "다음부터 그런게 있으면 그냥 질문하도록 하자"
   ]
  },
  {
   "cell_type": "code",
   "execution_count": 18,
   "id": "8a3a35e8-158b-4fdb-9faf-ea3aea05844a",
   "metadata": {},
   "outputs": [],
   "source": [
    "from itertools import combinations\n",
    "from collections import defaultdict"
   ]
  },
  {
   "cell_type": "code",
   "execution_count": 19,
   "id": "1d375c8f-1072-43fb-819e-84091d44384b",
   "metadata": {},
   "outputs": [],
   "source": [
    "orders = [\"ABCFG\", \"AC\", \"CDE\", \"ACDE\", \"BCFG\", \"ACDEH\"]\n",
    "course = [2, 3, 4]"
   ]
  },
  {
   "cell_type": "code",
   "execution_count": 21,
   "id": "0aeb5837-b2ee-4ae9-851a-adc51da90256",
   "metadata": {},
   "outputs": [
    {
     "data": {
      "text/plain": [
       "[('a', 'b'), ('a', 'c'), ('b', 'c')]"
      ]
     },
     "execution_count": 21,
     "metadata": {},
     "output_type": "execute_result"
    }
   ],
   "source": [
    "list(combinations(\"abc\", 2))"
   ]
  },
  {
   "cell_type": "code",
   "execution_count": 23,
   "id": "ec0eee5f-d5fa-4ed9-9032-c363e48d1e17",
   "metadata": {},
   "outputs": [],
   "source": [
    "A = {i: defaultdict(int) for i in course}\n",
    "for order in orders:\n",
    "    for c in course:\n",
    "        for s in combinations(order, c):\n",
    "            A[c][s] += 1"
   ]
  },
  {
   "cell_type": "code",
   "execution_count": 25,
   "id": "659b9628-7173-4f61-97a5-04d339f06070",
   "metadata": {},
   "outputs": [
    {
     "data": {
      "text/plain": [
       "defaultdict(int,\n",
       "            {('A', 'B'): 1,\n",
       "             ('A', 'C'): 4,\n",
       "             ('A', 'F'): 1,\n",
       "             ('A', 'G'): 1,\n",
       "             ('B', 'C'): 2,\n",
       "             ('B', 'F'): 2,\n",
       "             ('B', 'G'): 2,\n",
       "             ('C', 'F'): 2,\n",
       "             ('C', 'G'): 2,\n",
       "             ('F', 'G'): 2,\n",
       "             ('C', 'D'): 3,\n",
       "             ('C', 'E'): 3,\n",
       "             ('D', 'E'): 3,\n",
       "             ('A', 'D'): 2,\n",
       "             ('A', 'E'): 2,\n",
       "             ('A', 'H'): 1,\n",
       "             ('C', 'H'): 1,\n",
       "             ('D', 'H'): 1,\n",
       "             ('E', 'H'): 1})"
      ]
     },
     "execution_count": 25,
     "metadata": {},
     "output_type": "execute_result"
    }
   ],
   "source": [
    "A[2]"
   ]
  },
  {
   "cell_type": "code",
   "execution_count": 30,
   "id": "bb4b77ea-7612-40a4-815f-55693eb4b97a",
   "metadata": {},
   "outputs": [],
   "source": [
    "mv = 0\n",
    "ml = []\n",
    "c = 4\n",
    "for k, v in A[c].items():\n",
    "    if v > mv:\n",
    "        mv = v\n",
    "        ml = [k]\n",
    "    elif v == mv:\n",
    "        ml.append(k)"
   ]
  },
  {
   "cell_type": "code",
   "execution_count": 31,
   "id": "42f1f568-9987-421f-a9af-066cd7aa8708",
   "metadata": {},
   "outputs": [
    {
     "data": {
      "text/plain": [
       "[('B', 'C', 'F', 'G'), ('A', 'C', 'D', 'E')]"
      ]
     },
     "execution_count": 31,
     "metadata": {},
     "output_type": "execute_result"
    }
   ],
   "source": [
    "ml"
   ]
  },
  {
   "cell_type": "code",
   "execution_count": 45,
   "id": "1a98b11b-01de-41e7-82d9-4470d1f26214",
   "metadata": {},
   "outputs": [],
   "source": [
    "from itertools import combinations\n",
    "from collections import defaultdict\n",
    "\n",
    "\n",
    "def solution(orders, course):\n",
    "    _ = []\n",
    "    for order in orders:\n",
    "        _.append(sorted(order))\n",
    "    orders = _\n",
    "\n",
    "    A = {i: defaultdict(int) for i in course}\n",
    "    for order in orders:\n",
    "        for c in course:\n",
    "            for s in combinations(order, c):\n",
    "                A[c][s] += 1\n",
    "\n",
    "    answer = []\n",
    "    for c in course:\n",
    "        mv = 0\n",
    "        ml = []\n",
    "        for k, v in A[c].items():\n",
    "            if v > mv:\n",
    "                mv = v\n",
    "                ml = [k]\n",
    "            elif v == mv:\n",
    "                ml.append(k)\n",
    "\n",
    "        if mv >= 2:\n",
    "            answer.extend(map(lambda m: \"\".join(m), ml))\n",
    "\n",
    "    return sorted(answer)"
   ]
  },
  {
   "cell_type": "code",
   "execution_count": 46,
   "id": "5a8d902f-4627-42f9-90f7-c3fa2ed64595",
   "metadata": {},
   "outputs": [
    {
     "data": {
      "text/plain": [
       "['AC', 'ACDE', 'BCFG', 'CDE']"
      ]
     },
     "execution_count": 46,
     "metadata": {},
     "output_type": "execute_result"
    }
   ],
   "source": [
    "solution([\"ABCFG\", \"AC\", \"CDE\", \"ACDE\", \"BCFG\", \"ACDEH\"], [2, 3, 4])"
   ]
  },
  {
   "cell_type": "code",
   "execution_count": 47,
   "id": "efe86489-6186-4167-86e0-6276635332da",
   "metadata": {},
   "outputs": [
    {
     "data": {
      "text/plain": [
       "['ACD', 'AD', 'ADE', 'CD', 'XYZ']"
      ]
     },
     "execution_count": 47,
     "metadata": {},
     "output_type": "execute_result"
    }
   ],
   "source": [
    "solution([\"ABCDE\", \"AB\", \"CD\", \"ADE\", \"XYZ\", \"XYZ\", \"ACD\"], [2, 3, 5])"
   ]
  },
  {
   "cell_type": "code",
   "execution_count": 48,
   "id": "93c477f5-d5c2-4458-91d8-489e8af79aed",
   "metadata": {},
   "outputs": [
    {
     "data": {
      "text/plain": [
       "['WX', 'XY']"
      ]
     },
     "execution_count": 48,
     "metadata": {},
     "output_type": "execute_result"
    }
   ],
   "source": [
    "solution([\"XYZ\", \"XWY\", \"WXA\"], [2, 3, 4])"
   ]
  },
  {
   "cell_type": "code",
   "execution_count": null,
   "id": "364e8ef9-0ff5-4573-bc72-d77df379e5fe",
   "metadata": {},
   "outputs": [],
   "source": []
  }
 ],
 "metadata": {
  "kernelspec": {
   "display_name": "Python 3",
   "language": "python",
   "name": "python3"
  },
  "language_info": {
   "codemirror_mode": {
    "name": "ipython",
    "version": 3
   },
   "file_extension": ".py",
   "mimetype": "text/x-python",
   "name": "python",
   "nbconvert_exporter": "python",
   "pygments_lexer": "ipython3",
   "version": "3.7.9"
  }
 },
 "nbformat": 4,
 "nbformat_minor": 5
}
