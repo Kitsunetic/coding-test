{
 "cells": [
  {
   "cell_type": "code",
   "execution_count": 1,
   "id": "323a0dea-60e1-4dc3-97e8-c58ba7a58b11",
   "metadata": {},
   "outputs": [],
   "source": [
    "%load_ext lab_black"
   ]
  },
  {
   "cell_type": "code",
   "execution_count": 40,
   "id": "f3695185-3461-4abd-ae0d-39efcfa46aa7",
   "metadata": {},
   "outputs": [],
   "source": [
    "def solution(S):\n",
    "    # 1\n",
    "    S = S.lower()\n",
    "\n",
    "    # 2\n",
    "    T = \"\"\n",
    "    for s in S:\n",
    "        if s in tuple(\"abcdefghijklmnopqrstuvwxyz1234567890-_.\"):\n",
    "            T += s\n",
    "    S = T\n",
    "\n",
    "    # 3\n",
    "    dot = False\n",
    "    T = \"\"\n",
    "    for s in S:\n",
    "        if s == \".\":\n",
    "            if not dot:\n",
    "                T += s\n",
    "                dot = True\n",
    "        else:\n",
    "            dot = False\n",
    "            T += s\n",
    "    S = T\n",
    "\n",
    "    # 4\n",
    "    while S[:1] == \".\":\n",
    "        S = S[1:]\n",
    "    while S[:-1] == \".\":\n",
    "        S = S[:-1]\n",
    "\n",
    "    # 5\n",
    "    if len(S) == 0:\n",
    "        S = \"a\"\n",
    "\n",
    "    # 6\n",
    "    S = S[:15]\n",
    "    while S[-1] == \".\":\n",
    "        S = S[:-1]\n",
    "\n",
    "    # 7\n",
    "    if len(S) <= 2:\n",
    "        S += S[-1] * (3 - len(S))\n",
    "\n",
    "    return S"
   ]
  },
  {
   "cell_type": "code",
   "execution_count": null,
   "id": "33684dc3-ffe0-474f-8597-cca0f690538a",
   "metadata": {},
   "outputs": [],
   "source": []
  }
 ],
 "metadata": {
  "kernelspec": {
   "display_name": "Python 3",
   "language": "python",
   "name": "python3"
  },
  "language_info": {
   "codemirror_mode": {
    "name": "ipython",
    "version": 3
   },
   "file_extension": ".py",
   "mimetype": "text/x-python",
   "name": "python",
   "nbconvert_exporter": "python",
   "pygments_lexer": "ipython3",
   "version": "3.7.9"
  }
 },
 "nbformat": 4,
 "nbformat_minor": 5
}
